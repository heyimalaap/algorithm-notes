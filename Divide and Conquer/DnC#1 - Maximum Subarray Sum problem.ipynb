{
 "cells": [
  {
   "cell_type": "markdown",
   "metadata": {},
   "source": [
    "# Maximum Subarray Sum Problem \n",
    "\n",
    "### Problem description\n",
    "Consider an array $A[1...n]$. Considering all contigious subarrays in the array $A$, find the subarray with the maximum sum over all elements. For example, consider the array $A = [13, -3, -25, 20, -3, -16, -23, 18, 20, -7, 12, -5, -22, 15, -4, 7]$. Out of all the contigious subarrays, the subarray A[8...11] = [18, 20, -7, 12] has the maximum subarray sum of 43."
   ]
  },
  {
   "cell_type": "code",
   "execution_count": 1,
   "metadata": {},
   "outputs": [],
   "source": [
    "A = [13, -3, -25, 20, -3, -16, -23, 18, 20, -7, 12, -5, -22, 15, -4, 7]"
   ]
  },
  {
   "cell_type": "markdown",
   "metadata": {},
   "source": [
    "### Naive Solution (Bruteforce)\n",
    "Just check every possible subarray"
   ]
  },
  {
   "cell_type": "code",
   "execution_count": 2,
   "metadata": {},
   "outputs": [],
   "source": [
    "def naive_max_subarray(X):\n",
    "    n = len(X)\n",
    "    low = -1\n",
    "    high = -1\n",
    "    max_sum = -1\n",
    "    for i in range(0, n):\n",
    "        current_sum = 0\n",
    "        for j in range(i, n):\n",
    "            current_sum += X[j]\n",
    "            if (current_sum > max_sum):\n",
    "                low = i\n",
    "                high = j\n",
    "                max_sum = current_sum\n",
    "    return (low, high, max_sum)"
   ]
  },
  {
   "cell_type": "code",
   "execution_count": 3,
   "metadata": {},
   "outputs": [
    {
     "data": {
      "text/plain": [
       "(7, 10, 43)"
      ]
     },
     "execution_count": 3,
     "metadata": {},
     "output_type": "execute_result"
    }
   ],
   "source": [
    "naive_max_subarray(A)"
   ]
  },
  {
   "cell_type": "markdown",
   "metadata": {},
   "source": [
    "__Note__: python uses 0-based array indexing \\\n",
    "From the above nested for loop structure, its very clear that the above algorithm runs in $\\mathcal{O}(n^2)$"
   ]
  },
  {
   "cell_type": "markdown",
   "metadata": {},
   "source": [
    "### Divide and conquer approach\n",
    "Lets say we divide the whole array into two parts, $A\\lbrack1...\\lfloor \\frac{n}{2} \\rfloor\\rbrack$ and $A\\lbrack(\\lfloor\\frac{n}{2} \\rfloor+1)...n\\rbrack$. We notice that the maximum contigious subarray must lie either in : \n",
    "- The left subarray \n",
    "- The right subarray \n",
    "- Crossing the mid point, ie A[i...n/2...j] \n",
    "\n",
    "The first two cases divide the problem into sub-problems, allowing us to use divide and conquer. The third case can be done in $\\mathcal{O}(n)$ as shown below"
   ]
  },
  {
   "cell_type": "code",
   "execution_count": 4,
   "metadata": {},
   "outputs": [],
   "source": [
    "import math #for infinity (just being formal)\n",
    "def find_max_crossing_subarray(X, left, mid, right):\n",
    "    left_max_sum = -math.inf\n",
    "    left_idx = -1\n",
    "    sum = 0\n",
    "    for i in reversed(range(left, mid+1)): # mid...left\n",
    "        sum += X[i]\n",
    "        if (sum > left_max_sum):\n",
    "            left_max_sum = sum\n",
    "            left_idx = i\n",
    "    right_max_sum = -math.inf\n",
    "    right_idx = -1\n",
    "    sum = 0\n",
    "    for i in range(mid+1, right+1): #mid+1...right\n",
    "        sum += X[i]\n",
    "        if (sum > right_max_sum):\n",
    "            right_max_sum = sum\n",
    "            right_idx = i\n",
    "    return (left_idx, right_idx, left_max_sum + right_max_sum)"
   ]
  },
  {
   "cell_type": "code",
   "execution_count": 5,
   "metadata": {},
   "outputs": [
    {
     "data": {
      "text/plain": [
       "(7, 10, 43)"
      ]
     },
     "execution_count": 5,
     "metadata": {},
     "output_type": "execute_result"
    }
   ],
   "source": [
    "find_max_crossing_subarray(A, 0, 7, 15)"
   ]
  },
  {
   "cell_type": "markdown",
   "metadata": {},
   "source": [
    "Now we can use the above function to from out final divide and conquer solution as follows"
   ]
  },
  {
   "cell_type": "code",
   "execution_count": 6,
   "metadata": {},
   "outputs": [],
   "source": [
    "def dnc_max_subarray(X, low, high):\n",
    "    mid = (low + high)//2\n",
    "    if (high == low): # Base case\n",
    "        return (low, high, X[low])\n",
    "    else:\n",
    "        left_low, left_high, left_max_sum = dnc_max_subarray(X, low, mid)\n",
    "        right_low, right_high, right_max_sum = dnc_max_subarray(X, mid+1, high)\n",
    "        cross_low, cross_high, cross_max_sum = find_max_crossing_subarray(X, low, mid, high)\n",
    "        if (left_max_sum >= right_max_sum) and (left_max_sum >= cross_max_sum):\n",
    "            return (left_low, left_high, left_max_sum)\n",
    "        elif (right_max_sum >= left_max_sum) and (right_max_sum >= cross_max_sum):\n",
    "            return (right_low, right_high, right_max_sum)\n",
    "        else:\n",
    "            return (cross_low, cross_high, cross_max_sum)"
   ]
  },
  {
   "cell_type": "code",
   "execution_count": 7,
   "metadata": {},
   "outputs": [
    {
     "data": {
      "text/plain": [
       "(7, 10, 43)"
      ]
     },
     "execution_count": 7,
     "metadata": {},
     "output_type": "execute_result"
    }
   ],
   "source": [
    "dnc_max_subarray(A, 0, 15)"
   ]
  },
  {
   "cell_type": "markdown",
   "metadata": {},
   "source": [
    "Analysing the `dnc_max_subarray(...)` function, we see that there are two call's to itself (recursively) with any input half the size of the inital call, and also a call to `find_max_crossing_subarray(...)` which we have seen takes $\\mathcal{O}(n)$ time. So, we can set up the recurrence relation\n",
    "$$T(n) = 2T(n/2) + \\mathcal{O}(n)$$\n",
    "The above recurrence relation looks like merge sorts recurrence relation, hench using master's theorem or back substitution till base case, we see that `dnc_max_subarray(...)` takes $\\mathcal{O}(n\\lg(n))$ time"
   ]
  },
  {
   "cell_type": "markdown",
   "metadata": {},
   "source": [
    "### But wait! We can do better\n",
    "A very cool insight about this problem allows us to solve in in $\\mathcal{O}(n)$ time. To realize this, lets reframe the brute force solution. Rather than searching through all the contigious subarray starting from some $i$, let's look at subarrays that end with the index $i$, we notice that if we know if we know the maximum contigious subarray ending at some index $j$, say $A[m...j]$, then the max subarray ending at $j+1$ is either $[A[j+1]]$ or $A[m...j+1]$. Let's prove the above: \\\n",
    "Say the maximum sum subarray is not $A[m...j+1]$, but rather, say some $A[t...j+1]$ where $t \\neq j+1$. That means, we are saying\n",
    "$$|A[m...j+1]| \\leq |A[t...j+1]| \\implies |A[m...j]| + A[j+1] \\leq |A[t...j]| + A[j+1] \\implies |A[m...j]| \\leq |A[t...j]|$$\n",
    "But we assumed that $A[m...j]$ was the maximum sum subarray ending at $j$, this is a contradiction. Now the only two subarrays ending at $j+1$ is $[A[j+1]]$ and $A[m...j+1]$. Hence the maximum among them is the maximum subarray sum ending at $j+1$ $\\blacksquare$\\\n",
    "__This algorithm is popularly called Kadane's Algorithm__"
   ]
  },
  {
   "cell_type": "code",
   "execution_count": 10,
   "metadata": {},
   "outputs": [],
   "source": [
    "import math\n",
    "def kadane_max_subarray(X):\n",
    "    n = len(X)\n",
    "    max_sum = -math.inf\n",
    "    current_sum = -math.inf\n",
    "    low, high = (-1, -1)\n",
    "    current_low, current_high = (-1, -1)\n",
    "    for i in range(0, n):\n",
    "        current_high = i\n",
    "        if (current_sum > 0): # current_sum + X[i] > X[i] => current_sum > 0\n",
    "            current_sum += X[i]\n",
    "        else:\n",
    "            current_low = i\n",
    "            current_sum = X[i]\n",
    "        if (current_sum > max_sum):\n",
    "            low = current_low\n",
    "            high = current_high\n",
    "            max_sum = current_sum\n",
    "    return (low, high, max_sum)"
   ]
  },
  {
   "cell_type": "code",
   "execution_count": 11,
   "metadata": {},
   "outputs": [
    {
     "data": {
      "text/plain": [
       "(7, 10, 43)"
      ]
     },
     "execution_count": 11,
     "metadata": {},
     "output_type": "execute_result"
    }
   ],
   "source": [
    "kadane_max_subarray(A)"
   ]
  }
 ],
 "metadata": {
  "kernelspec": {
   "display_name": "Python 3",
   "language": "python",
   "name": "python3"
  },
  "language_info": {
   "codemirror_mode": {
    "name": "ipython",
    "version": 3
   },
   "file_extension": ".py",
   "mimetype": "text/x-python",
   "name": "python",
   "nbconvert_exporter": "python",
   "pygments_lexer": "ipython3",
   "version": "3.8.2"
  }
 },
 "nbformat": 4,
 "nbformat_minor": 4
}
